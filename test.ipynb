{
 "cells": [
  {
   "cell_type": "code",
   "execution_count": 14,
   "metadata": {},
   "outputs": [],
   "source": [
    "def test_problem(func, test_data):\n",
    "  for inputs, true_answer in test_data:\n",
    "      answer = func(inputs)\n",
    "      print(answer,true_answer)\n",
    "      if answer != true_answer:\n",
    "        print(\"wrong\")\n",
    "        return 0\n",
    "  return 1\n",
    "\n",
    "def test_problem_two_input(func, test_data):\n",
    "  for inputs, inputs2, true_answer in test_data:\n",
    "      answer = func(inputs, inputs2)\n",
    "      print(answer,true_answer)\n",
    "      if answer != true_answer:\n",
    "        print(\"wrong\")\n",
    "        return 0\n",
    "  return 1"
   ]
  },
  {
   "cell_type": "code",
   "execution_count": null,
   "metadata": {},
   "outputs": [],
   "source": [
    "#1\n",
    "def test_fact(fact_func):\n",
    "    test_data = [\n",
    "    # фамилии\n",
    "      (1, 1),\n",
    "      (2, 2),\n",
    "      (10, 3628800),\n",
    "  ]\n",
    "    return test_problem(fact_func, test_data)\n",
    "res = test_fact(fact)\n",
    "print(\"Res:\",res)"
   ]
  },
  {
   "cell_type": "code",
   "execution_count": null,
   "metadata": {},
   "outputs": [],
   "source": [
    "#2\n",
    "def test_filter_even(filter_even_func):\n",
    "    test_data = [\n",
    "                  ([1,2,3], [2]),\n",
    "                  ([1,2,3,4,5,6,7,8,9], [2,4,6,8])\n",
    "              ]\n",
    "    return test_problem(filter_even_func, test_data)\n",
    "\n",
    "res = test_filter_even(filter_even)\n",
    "print(\"Res:\",res)"
   ]
  },
  {
   "cell_type": "code",
   "execution_count": null,
   "metadata": {},
   "outputs": [],
   "source": [
    "#3\n",
    "def test_square(square_func):\n",
    "    test_data = [\n",
    "        ([1, 2, 3, 4], [1, 4, 9, 16]),\n",
    "        ([5, 11, 12, 13], [25, 121, 144, 169]),\n",
    "        ([9, 8, 7, 6, 5, 4, 3, 2], [81, 64, 49, 36, 25, 16, 9, 4]),\n",
    "        ([2, 2, 2, 2, 2],[4, 4, 4, 4, 4]),\n",
    "        ([123], [15129]),\n",
    "    ]\n",
    "    return test_problem(square_func, test_data)\n",
    "\n",
    "res = test_square(square)\n",
    "print(\"Res:\",res)"
   ]
  },
  {
   "cell_type": "code",
   "execution_count": null,
   "metadata": {},
   "outputs": [],
   "source": [
    "#4\n",
    "def test_binSearch(bin_search):\n",
    "    test_data = [\n",
    "      ([2, 5, 7, 9, 11, 17, 222], 2, 0),\n",
    "      ([2, 5, 7, 9, 11, 17, 222], 5, 1),\n",
    "      ([2, 5, 7, 9, 11, 17, 222], 7, 2),\n",
    "      ([2, 5, 7, 9, 11, 17, 222], 9, 3),\n",
    "      ([2, 5, 7, 9, 11, 17, 222], 11, 4),\n",
    "      ([2, 5, 7, 9, 11, 17, 222], 17, 5),\n",
    "      ([2, 5, 7, 9, 11, 17, 222], 222, 6),\n",
    "      ([55, 25, 77, 49, 311, 217, 295], 25, 1),\n",
    "      ([55, 25, 77, 49, 311, 217, 295], 49, 3),\n",
    "      ([55, 25, 77, 49, 311, 217, 295], 217, 5),\n",
    "      ([55, 25, 77, 49, 311, 217, 295], 295, 6)\n",
    "  ]\n",
    "    return test_problem_two_input(bin_search, test_data)\n",
    "res = test_binSearch(bin_search)\n",
    "print(\"Res:\",res)"
   ]
  },
  {
   "cell_type": "code",
   "execution_count": null,
   "metadata": {},
   "outputs": [],
   "source": [
    "#5\n",
    "def test_palindrom(fact_func):\n",
    "    test_data = [\n",
    "      (\"gsgagsg\", \"YES\"),\n",
    "      (\"gdsgas\", \"NO\"),\n",
    "      (\"jdfssfdj\", \"YES\")\n",
    "  ]\n",
    "    return test_problem(fact_func, test_data)\n",
    "res = test_palindrom(is_palindrome)\n",
    "\n",
    "print(\"Res:\",res)"
   ]
  },
  {
   "cell_type": "code",
   "execution_count": null,
   "metadata": {},
   "outputs": [],
   "source": [
    "#6\n",
    "def test_calculate(fact_func):\n",
    "  \n",
    "  file = open(\"test_output_file_1.txt\", \"r\")\n",
    "\n",
    "  string = file.read()\n",
    "\n",
    "  test_data = [\n",
    "      (\"test_input_file_1.txt\", string),\n",
    "  ]\n",
    "  \n",
    "  return test_problem(fact_func, test_data)\n",
    "res = test_calculate(calculate)\n",
    "\n",
    "print(\"Res:\",res)"
   ]
  },
  {
   "cell_type": "code",
   "execution_count": null,
   "metadata": {},
   "outputs": [],
   "source": [
    "#7\n",
    "def test_substring_slice(fact_func):\n",
    "  \n",
    "  file = open(\"test_output_file_2.txt\", \"r\")\n",
    "\n",
    "  string = file.read()\n",
    "\n",
    "  test_data = [\n",
    "      (\"test_import_file_2_1.txt\", \"test_import_file_2_2.txt\", string),\n",
    "  ]\n",
    "  \n",
    "  return test_problem_two_input(fact_func, test_data)\n",
    "res = test_substring_slice(substring_slice)\n",
    "\n",
    "print(\"Res:\",res)"
   ]
  },
  {
   "cell_type": "code",
   "execution_count": null,
   "metadata": {},
   "outputs": [],
   "source": [
    "def test_decode_ch(decode_ch):\n",
    "    test_data = [\n",
    "      (\"NOTiFICaTiON\", \"АзотКислородТитанФторЙодКальцийТитанКислородАзот\")\n",
    "      \n",
    "  ]\n",
    "    return test_problem(decode_ch, test_data)\n",
    "res = test_decode_ch(decode_ch)\n",
    "print(\"Res:\",res)"
   ]
  },
  {
   "cell_type": "code",
   "execution_count": null,
   "metadata": {},
   "outputs": [],
   "source": []
  }
 ],
 "metadata": {
  "interpreter": {
   "hash": "82d4c6f819cf47785f735f902f00da8643513d08dab4f4c7470bccf934b8d2d6"
  },
  "kernelspec": {
   "display_name": "Python 3.7.0 64-bit",
   "language": "python",
   "name": "python3"
  },
  "language_info": {
   "codemirror_mode": {
    "name": "ipython",
    "version": 3
   },
   "file_extension": ".py",
   "mimetype": "text/x-python",
   "name": "python",
   "nbconvert_exporter": "python",
   "pygments_lexer": "ipython3",
   "version": "3.7.0"
  },
  "orig_nbformat": 4
 },
 "nbformat": 4,
 "nbformat_minor": 2
}
