{
 "cells": [
  {
   "cell_type": "code",
   "execution_count": 7,
   "metadata": {},
   "outputs": [
    {
     "name": "stdout",
     "output_type": "stream",
     "text": [
      "У прямоугольника периметр = 40 площадь = 25\n",
      "У прямоугольника периметр = 24 площадь = 12\n"
     ]
    }
   ],
   "source": [
    "class Figure():\n",
    "    def __init__(self, perimeter=None, space=None):\n",
    "        self.perimeter = perimeter\n",
    "        self.space = space\n",
    "        self.infoFig = []\n",
    "    def calcPerimeter(self):\n",
    "        pass\n",
    "    def calcSpace(srlf):\n",
    "        pass\n",
    "    def figInfo(self):\n",
    "        p = self.calcPerimeter()\n",
    "        s = self.calcSpace()\n",
    "        print('периметр = %s площадь = %s' %(p, s))\n",
    " \n",
    "class Rectangle(Figure):\n",
    "    def __init__(self, x, y, w, h):\n",
    "        Figure.__init__(self)\n",
    "        self.x = x\n",
    "        self.y = y\n",
    "        self.w = w\n",
    "        self.h = h\n",
    "    def calcPerimeter(self):\n",
    "        perimeter = self.w * 2 + self.h * 2\n",
    "        return perimeter\n",
    "    def calcSpace(self):\n",
    "        space = self.x * self.y\n",
    "        return space\n",
    "    def figInfo(self):\n",
    "        p = self.calcPerimeter()\n",
    "        s = self.calcSpace()\n",
    "        print('У прямоугольника периметр = %s площадь = %s' %(p, s))\n",
    " \n",
    "if __name__ == '__main__':\n",
    "    fig1 = Rectangle(5, 5, 10, 10)\n",
    "    fig2 = Rectangle(-3, -4, 5, 7)\n",
    "    array = [fig1, fig2]\n",
    "    for f in array:\n",
    "        f.figInfo()"
   ]
  }
 ],
 "metadata": {
  "interpreter": {
   "hash": "82d4c6f819cf47785f735f902f00da8643513d08dab4f4c7470bccf934b8d2d6"
  },
  "kernelspec": {
   "display_name": "Python 3.7.0 64-bit",
   "language": "python",
   "name": "python3"
  },
  "language_info": {
   "codemirror_mode": {
    "name": "ipython",
    "version": 3
   },
   "file_extension": ".py",
   "mimetype": "text/x-python",
   "name": "python",
   "nbconvert_exporter": "python",
   "pygments_lexer": "ipython3",
   "version": "3.7.0"
  },
  "orig_nbformat": 4
 },
 "nbformat": 4,
 "nbformat_minor": 2
}
